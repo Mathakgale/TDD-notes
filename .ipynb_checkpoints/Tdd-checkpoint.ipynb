{
 "cells": [
  {
   "cell_type": "markdown",
   "id": "574dc212-92a1-4c48-b08b-9a940be91409",
   "metadata": {
    "tags": []
   },
   "source": [
    " Author: Mathakgale Mohale Elmus <br>\n",
    " Email: mathakgalemohale@gmail.com <br>\n",
    " [This Notes References](https://www.youtube.com/watch?v=Ps3ThtscuCo)\n",
    "# **Test driven development (TDD)**\n",
    "\n",
    "1. Write a test that will fails\n",
    "2. Implement a code to make the test pass \n",
    "4. Refactor the code to make it readable and easy to understand\n",
    "5. repeat the process\n",
    "\n",
    "# *Check the example Below (For python)*\n",
    "\n",
    "1. Import the package `unittest`\n",
    "2. create a class that inherit from `unittest.TestCase`\n",
    "2. use test case functinalities\n",
    "\n"
   ]
  },
  {
   "cell_type": "code",
   "execution_count": 5,
   "id": "04a17297-d1ca-44d6-ad88-7026358ae9d5",
   "metadata": {},
   "outputs": [
    {
     "name": "stdout",
     "output_type": "stream",
     "text": [
      "hello world\n"
     ]
    }
   ],
   "source": []
  },
  {
   "cell_type": "code",
   "execution_count": null,
   "id": "fe490d67-a9aa-4579-9871-ff992ae64490",
   "metadata": {},
   "outputs": [],
   "source": []
  },
  {
   "cell_type": "code",
   "execution_count": null,
   "id": "c21cbbe4-e7fd-4332-bb0f-153c7d9a01d8",
   "metadata": {},
   "outputs": [],
   "source": []
  }
 ],
 "metadata": {
  "kernelspec": {
   "display_name": "Python 3 (ipykernel)",
   "language": "python",
   "name": "python3"
  },
  "language_info": {
   "codemirror_mode": {
    "name": "ipython",
    "version": 3
   },
   "file_extension": ".py",
   "mimetype": "text/x-python",
   "name": "python",
   "nbconvert_exporter": "python",
   "pygments_lexer": "ipython3",
   "version": "3.8.10"
  }
 },
 "nbformat": 4,
 "nbformat_minor": 5
}
