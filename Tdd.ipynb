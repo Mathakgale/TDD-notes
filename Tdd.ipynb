{
 "cells": [
  {
   "cell_type": "markdown",
   "id": "574dc212-92a1-4c48-b08b-9a940be91409",
   "metadata": {
    "tags": []
   },
   "source": [
    " Author: Mathakgale Mohale Elmus <br>\n",
    " Email: mathakgalemohale@gmail.com <br>\n",
    " [This Notes References](https://www.youtube.com/watch?v=Ps3ThtscuCo)\n",
    "# **Test driven development (TDD)**\n",
    "\n",
    "1. Write a test that will fails\n",
    "2. Implement a code to make the test pass \n",
    "4. Refactor the code to make it readable and easy to understand\n",
    "5. repeat the process\n",
    "\n",
    "# *Check the example Below (For python)*\n",
    "\n",
    "1. Import the package `unittest`\n",
    "2. create a class that inherit from `unittest.TestCase`\n",
    "2. use test case functinalities\n"
   ]
  },
  {
   "cell_type": "code",
   "execution_count": 7,
   "id": "04a17297-d1ca-44d6-ad88-7026358ae9d5",
   "metadata": {},
   "outputs": [],
   "source": [
    "import unittest\n",
    "\n",
    "class TestAdding(unittest.TestCase):\n",
    "    def test_two_number(self):\n",
    "        sum = Add(1,1)\n",
    "        self.assertEqual(sum,2)\n",
    "        \n",
    "if '__name__'=='__main__':\n",
    "    unittest.main()"
   ]
  },
  {
   "cell_type": "markdown",
   "id": "d621797f-790a-415e-81e7-7cc4ddca1f65",
   "metadata": {
    "jupyter": {
     "source_hidden": true
    },
    "tags": []
   },
   "source": [
    "# Remember types of assertions to make use of when building tests cases\n",
    "\n",
    "||basic assertions|description|\n",
    "| ----------- | ----------- |  ----------- |\n",
    "|1.|`assertEqual(param1,param2)`|checks if `param1`==`param2`|\n",
    "|2.|`assertTrue(param)`|checks if `param`==`True`|\n",
    "|2.|`assertFalse(param)`|checks if `param`==`False`|\n",
    "|3.|`assertNotEqual(a, b)`|`a != b`|\n",
    "\n",
    "[assertion cheat sheet](https://kapeli.com/cheat_sheets/Python_unittest_Assertions.docset/Contents/Resources/Documents/index)"
   ]
  },
  {
   "cell_type": "markdown",
   "id": "5028c893-d1e2-4c13-9d09-78fd7b56c639",
   "metadata": {},
   "source": [
    "# Step 2: implement a code to make the test pass "
   ]
  },
  {
   "cell_type": "code",
   "execution_count": 12,
   "id": "1fbbeb71-82f4-4b3b-82b6-dd4969cdbfe9",
   "metadata": {},
   "outputs": [],
   "source": [
    "class Add:\n",
    "    def __init__(self,num1,num2):\n",
    "        self.num1 = num1\n",
    "        self.num2 = num2\n",
    "    def add (self):\n",
    "        return self.num1+self.num2\n",
    "    \n",
    "def main():\n",
    "    \n",
    "    Testing= TestAdding()\n",
    "    testing.test_two_number()\n",
    "if \"__name__\"==\"__main__\":\n",
    "    main()\n",
    "        "
   ]
  },
  {
   "cell_type": "markdown",
   "id": "f9b0842f-64b3-4efb-93c4-27da53a0c8f1",
   "metadata": {},
   "source": [
    "# ***Step 3: Is to refactor the code, make it readable and easy to understand***\n",
    "- In this case the exaple is too easy and straight forward the The is no refactoring need <br>\n",
    "# ***Step 4: Repeat the process***"
   ]
  },
  {
   "cell_type": "code",
   "execution_count": null,
   "id": "e1650096-990c-4e73-8bed-65bbc7d25043",
   "metadata": {},
   "outputs": [],
   "source": []
  },
  {
   "cell_type": "code",
   "execution_count": null,
   "id": "918ebaa5-3a7f-4887-a330-85b2961577f5",
   "metadata": {},
   "outputs": [],
   "source": []
  },
  {
   "cell_type": "code",
   "execution_count": null,
   "id": "cf65f5cc-0410-44e1-97b7-4ab895940be5",
   "metadata": {},
   "outputs": [],
   "source": []
  }
 ],
 "metadata": {
  "kernelspec": {
   "display_name": "Python 3 (ipykernel)",
   "language": "python",
   "name": "python3"
  },
  "language_info": {
   "codemirror_mode": {
    "name": "ipython",
    "version": 3
   },
   "file_extension": ".py",
   "mimetype": "text/x-python",
   "name": "python",
   "nbconvert_exporter": "python",
   "pygments_lexer": "ipython3",
   "version": "3.8.10"
  }
 },
 "nbformat": 4,
 "nbformat_minor": 5
}
